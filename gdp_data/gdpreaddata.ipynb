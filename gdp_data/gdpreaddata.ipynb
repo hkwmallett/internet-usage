{
 "cells": [
  {
   "cell_type": "code",
   "execution_count": 154,
   "metadata": {
    "collapsed": true
   },
   "outputs": [],
   "source": [
    "import numpy as np"
   ]
  },
  {
   "cell_type": "markdown",
   "metadata": {},
   "source": [
    "Importing the GDP csv file (of cleaned data)"
   ]
  },
  {
   "cell_type": "code",
   "execution_count": 155,
   "metadata": {
    "collapsed": true
   },
   "outputs": [],
   "source": [
    "import csv"
   ]
  },
  {
   "cell_type": "code",
   "execution_count": 156,
   "metadata": {
    "collapsed": false
   },
   "outputs": [],
   "source": [
    "def readgdp():\n",
    "\n",
    "    row_number = 0\n",
    "    years=[]\n",
    "    data=[]\n",
    "    country=[]\n",
    "    country_code = []\n",
    "\n",
    "    with open('gdp-data-cleaned.csv',newline='') as csvfile:\n",
    "        gdpreader=csv.reader(csvfile,delimiter=',',quotechar='|')\n",
    "        for row in gdpreader:\n",
    "            data_row_list_num=[]\n",
    "            if row_number==0: # header row gives years in data\n",
    "                years=row[2:]\n",
    "            if row_number>0: # splitting rows into countrynames, countrycodes, and gdp data\n",
    "                data_row_list_str=row[2:]\n",
    "                data_row=[float(i) for i in data_row_list_str]\n",
    "                country_row=row[0]\n",
    "                country_code_row=row[1]\n",
    "                data.append(data_row)\n",
    "                country.append(country_row)\n",
    "                country_code.append(country_code_row)\n",
    "            row_number=row_number+1\n",
    "    #print(data_row[1])\n",
    "    #print(years)\n",
    "    #print(data)\n",
    "    #print(data[1])\n",
    "    #print(country)\n",
    "    #print(country_code)\n",
    "           \n",
    "    data_2=np.array(data) # convert data from list of floats to a numpy array\n",
    "    #print(data_2)\n",
    "    #print(data_2[3,2])\n",
    "    \n",
    "    return data_2 \n",
    "    return years \n",
    "    return country \n",
    "    return country_code"
   ]
  },
  {
   "cell_type": "markdown",
   "metadata": {},
   "source": []
  },
  {
   "cell_type": "code",
   "execution_count": 177,
   "metadata": {
    "collapsed": false
   },
   "outputs": [
    {
     "name": "stdout",
     "output_type": "stream",
     "text": [
      "[ 19095.46699846  19900.72665051  20487.17078529  18389.01956751\n",
      "  19709.23809837  21330.2762529   22462.50943236  24803.1474322\n",
      "  26281.04775165  26675.91559547  26400.65643827  25980.22037935\n",
      "  28301.20833224  32575.09196262  38305.87268599  40047.90596701\n",
      "  42534.30626134  48428.1574528   45195.15692739  37166.27596549\n",
      "  38292.87113136  41020.37696431  41294.51480087  42294.89011578\n",
      "  46296.98467251]\n"
     ]
    }
   ],
   "source": [
    "#country='GBR'\n",
    "    \n",
    "def gdpdata_for_country(country):\n",
    "    \n",
    "    for i in range (0, len(country_code)):\n",
    "        if country == country_code[i]:\n",
    "            save_con = i\n",
    "            \n",
    "    data_for_country=data_2[save_con]\n",
    "    return(data_for_country)\n",
    "#print(data_for_country)"
   ]
  },
  {
   "cell_type": "code",
   "execution_count": 168,
   "metadata": {
    "collapsed": false
   },
   "outputs": [
    {
     "data": {
      "text/plain": [
       "(248, 25)"
      ]
     },
     "execution_count": 168,
     "metadata": {},
     "output_type": "execute_result"
    }
   ],
   "source": [
    "np.shape(data_2)"
   ]
  },
  {
   "cell_type": "code",
   "execution_count": null,
   "metadata": {
    "collapsed": false
   },
   "outputs": [],
   "source": []
  },
  {
   "cell_type": "code",
   "execution_count": null,
   "metadata": {
    "collapsed": false
   },
   "outputs": [],
   "source": []
  },
  {
   "cell_type": "code",
   "execution_count": null,
   "metadata": {
    "collapsed": true
   },
   "outputs": [],
   "source": []
  },
  {
   "cell_type": "code",
   "execution_count": null,
   "metadata": {
    "collapsed": true
   },
   "outputs": [],
   "source": [
    "   "
   ]
  }
 ],
 "metadata": {
  "kernelspec": {
   "display_name": "Python 3",
   "language": "python",
   "name": "python3"
  },
  "language_info": {
   "codemirror_mode": {
    "name": "ipython",
    "version": 3
   },
   "file_extension": ".py",
   "mimetype": "text/x-python",
   "name": "python",
   "nbconvert_exporter": "python",
   "pygments_lexer": "ipython3",
   "version": "3.5.1"
  }
 },
 "nbformat": 4,
 "nbformat_minor": 0
}
